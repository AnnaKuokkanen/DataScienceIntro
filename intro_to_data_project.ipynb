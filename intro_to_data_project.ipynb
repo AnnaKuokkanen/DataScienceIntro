{
 "cells": [
  {
   "cell_type": "markdown",
   "metadata": {},
   "source": [
    "# The data\n",
    "\n",
    "Our data consists of population data obtained from Finnish Statistical center and healthcare expenditure data obtained from Finnish Institute of Health and Welfare.\n",
    "\n",
    "First let us load and look at the data:"
   ]
  },
  {
   "cell_type": "code",
   "execution_count": 2,
   "metadata": {},
   "outputs": [
    {
     "name": "stderr",
     "output_type": "stream",
     "text": [
      "C:\\Users\\annku\\AppData\\Local\\Temp\\ipykernel_23796\\2151744951.py:1: DeprecationWarning: \n",
      "Pyarrow will become a required dependency of pandas in the next major release of pandas (pandas 3.0),\n",
      "(to allow more performant data types, such as the Arrow string type, and better interoperability with other libraries)\n",
      "but was not found to be installed on your system.\n",
      "If this would cause problems for you,\n",
      "please provide us feedback at https://github.com/pandas-dev/pandas/issues/54466\n",
      "        \n",
      "  import pandas as pd\n"
     ]
    }
   ],
   "source": [
    "import pandas as pd\n",
    "import numpy as np\n",
    "import matplotlib.pyplot as plt"
   ]
  },
  {
   "cell_type": "code",
   "execution_count": 4,
   "metadata": {},
   "outputs": [
    {
     "name": "stdout",
     "output_type": "stream",
     "text": [
      "               Region    Gender  Year  Pop_total\n",
      "0     Central Finland      male  1990     125353\n",
      "1     Central Finland    female  1990     129186\n",
      "2     Central Finland  combined  1990     254539\n",
      "3     Central Finland      male  1991     126307\n",
      "4     Central Finland    female  1991     130173\n",
      "...               ...       ...   ...        ...\n",
      "1933            Åland    female  2022      15295\n",
      "1934            Åland  combined  2022      30359\n",
      "1935            Åland      male  2023      15122\n",
      "1936            Åland    female  2023      15419\n",
      "1937            Åland  combined  2023      30541\n",
      "\n",
      "[1938 rows x 4 columns]\n",
      "              Region    Gender  Year  Health_total\n",
      "0    Central Finland  combined  1993        200375\n",
      "1    Central Finland  combined  1994        192911\n",
      "2    Central Finland  combined  1995        200223\n",
      "3    Central Finland  combined  1996        210664\n",
      "4    Central Finland  combined  1997        225084\n",
      "..               ...       ...   ...           ...\n",
      "527            Åland  combined  2016           590\n",
      "528            Åland  combined  2017           468\n",
      "529            Åland  combined  2018           412\n",
      "530            Åland  combined  2019           490\n",
      "531            Åland  combined  2020           730\n",
      "\n",
      "[532 rows x 4 columns]\n"
     ]
    }
   ],
   "source": [
    "population = pd.read_csv(\"data/pop_by_region.csv\", sep=\";\", header=None, \n",
    "                         names=[\"Category\", \"Id\", \"Region\", \"Area_code\", \"Gender\", \"Year\", \"Count\", \"Pop_total\"])\n",
    "\n",
    "# only read necessary fields\n",
    "population = population[[\"Region\", \"Gender\", \"Year\", \"Pop_total\"]]\n",
    "\n",
    "print(population)\n",
    "\n",
    "health_cost = pd.read_csv(\"data/health_expenditure_total.csv\", sep=\";\", header=None,\n",
    "                            names=[\"Category\", \"Id\", \"Region\", \"Area_code\", \"Gender\", \"Year\", \"Count\", \"Health_total\"])\n",
    "\n",
    "# only read necessary fields\n",
    "health_cost = health_cost[[\"Region\", \"Gender\", \"Year\", \"Health_total\"]]\n",
    "print(health_cost)"
   ]
  },
  {
   "cell_type": "markdown",
   "metadata": {},
   "source": [
    "In the `pop_by_region` we have the 19 regions of Finland with their respective populations by year from 1990 to 2023. In the `health_expenditure_total` we have the total operating expenditure of municipal healthcare, 1000 euros, from 1993 to 2020.\n",
    "\n",
    "Our goal is to predict the future healthcare costs of a region based on following predictors: population structure, alchohol and tobacco consumption and drug use, level of education and employment (possible to add others)."
   ]
  },
  {
   "cell_type": "markdown",
   "metadata": {},
   "source": [
    "## Data processing\n",
    "\n",
    "The data "
   ]
  }
 ],
 "metadata": {
  "kernelspec": {
   "display_name": "Python 3",
   "language": "python",
   "name": "python3"
  },
  "language_info": {
   "codemirror_mode": {
    "name": "ipython",
    "version": 3
   },
   "file_extension": ".py",
   "mimetype": "text/x-python",
   "name": "python",
   "nbconvert_exporter": "python",
   "pygments_lexer": "ipython3",
   "version": "3.11.0"
  }
 },
 "nbformat": 4,
 "nbformat_minor": 2
}
